{
 "cells": [
  {
   "cell_type": "markdown",
   "metadata": {},
   "source": [
    "# What is the True Normal Human Body Temperature? \n",
    "\n",
    "#### Background\n",
    "\n",
    "The mean normal body temperature was held to be 37$^{\\circ}$C or 98.6$^{\\circ}$F for more than 120 years since it was first conceptualized and reported by Carl Wunderlich in a famous 1868 book. But, is this value statistically correct?"
   ]
  },
  {
   "cell_type": "markdown",
   "metadata": {},
   "source": [
    "<div class=\"span5 alert alert-info\">\n",
    "<h3>Exercises</h3>\n",
    "\n",
    "<p>In this exercise, you will analyze a dataset of human body temperatures and employ the concepts of hypothesis testing, confidence intervals, and statistical significance.</p>\n",
    "\n",
    "<p>Answer the following questions <b>in this notebook below and submit to your Github account</b>.</p> \n",
    "\n",
    "<ol>\n",
    "<li>  Is the distribution of body temperatures normal? \n",
    "    <ul>\n",
    "    <li> Although this is not a requirement for CLT to hold (read CLT carefully), it gives us some peace of mind that the population may also be normally distributed if we assume that this sample is representative of the population.\n",
    "    </ul>\n",
    "<li>  Is the sample size large? Are the observations independent?\n",
    "    <ul>\n",
    "    <li> Remember that this is a condition for the CLT, and hence the statistical tests we are using, to apply.\n",
    "    </ul>\n",
    "<li>  Is the true population mean really 98.6 degrees F?\n",
    "    <ul>\n",
    "    <li> Would you use a one-sample or two-sample test? Why?\n",
    "    <li> In this situation, is it appropriate to use the $t$ or $z$ statistic? \n",
    "    <li> Now try using the other test. How is the result be different? Why?\n",
    "    </ul>\n",
    "<li>  At what temperature should we consider someone's temperature to be \"abnormal\"?\n",
    "    <ul>\n",
    "    <li> Start by computing the margin of error and confidence interval.\n",
    "    </ul>\n",
    "<li>  Is there a significant difference between males and females in normal temperature?\n",
    "    <ul>\n",
    "    <li> What test did you use and why?\n",
    "    <li> Write a story with your conclusion in the context of the original problem.\n",
    "    </ul>\n",
    "</ol>\n",
    "\n",
    "You can include written notes in notebook cells using Markdown: \n",
    "   - In the control panel at the top, choose Cell > Cell Type > Markdown\n",
    "   - Markdown syntax: http://nestacms.com/docs/creating-content/markdown-cheat-sheet\n",
    "\n",
    "#### Resources\n",
    "\n",
    "+ Information and data sources: http://www.amstat.org/publications/jse/datasets/normtemp.txt, http://www.amstat.org/publications/jse/jse_data_archive.htm\n",
    "+ Markdown syntax: http://nestacms.com/docs/creating-content/markdown-cheat-sheet\n",
    "\n",
    "****\n",
    "</div>"
   ]
  },
  {
   "cell_type": "code",
   "execution_count": 1,
   "metadata": {
    "collapsed": false
   },
   "outputs": [
    {
     "ename": "FileNotFoundError",
     "evalue": "File b'data/human_body_temperature.csv' does not exist",
     "output_type": "error",
     "traceback": [
      "\u001b[0;31m---------------------------------------------------------------------------\u001b[0m",
      "\u001b[0;31mFileNotFoundError\u001b[0m                         Traceback (most recent call last)",
      "\u001b[0;32m<ipython-input-1-031192a5f60b>\u001b[0m in \u001b[0;36m<module>\u001b[0;34m()\u001b[0m\n\u001b[1;32m     19\u001b[0m \u001b[0mget_ipython\u001b[0m\u001b[0;34m(\u001b[0m\u001b[0;34m)\u001b[0m\u001b[0;34m.\u001b[0m\u001b[0mmagic\u001b[0m\u001b[0;34m(\u001b[0m\u001b[0;34m'matplotlib inline'\u001b[0m\u001b[0;34m)\u001b[0m\u001b[0;34m\u001b[0m\u001b[0m\n\u001b[1;32m     20\u001b[0m \u001b[0;34m\u001b[0m\u001b[0m\n\u001b[0;32m---> 21\u001b[0;31m \u001b[0mdf\u001b[0m \u001b[0;34m=\u001b[0m \u001b[0mpd\u001b[0m\u001b[0;34m.\u001b[0m\u001b[0mread_csv\u001b[0m\u001b[0;34m(\u001b[0m\u001b[0;34m'data/human_body_temperature.csv'\u001b[0m\u001b[0;34m)\u001b[0m\u001b[0;34m\u001b[0m\u001b[0m\n\u001b[0m\u001b[1;32m     22\u001b[0m \u001b[0mdf\u001b[0m\u001b[0;34m.\u001b[0m\u001b[0mhead\u001b[0m\u001b[0;34m(\u001b[0m\u001b[0;34m)\u001b[0m\u001b[0;34m\u001b[0m\u001b[0m\n",
      "\u001b[0;32m/Users/Anthony/anaconda/lib/python3.6/site-packages/pandas/io/parsers.py\u001b[0m in \u001b[0;36mparser_f\u001b[0;34m(filepath_or_buffer, sep, delimiter, header, names, index_col, usecols, squeeze, prefix, mangle_dupe_cols, dtype, engine, converters, true_values, false_values, skipinitialspace, skiprows, nrows, na_values, keep_default_na, na_filter, verbose, skip_blank_lines, parse_dates, infer_datetime_format, keep_date_col, date_parser, dayfirst, iterator, chunksize, compression, thousands, decimal, lineterminator, quotechar, quoting, escapechar, comment, encoding, dialect, tupleize_cols, error_bad_lines, warn_bad_lines, skipfooter, skip_footer, doublequote, delim_whitespace, as_recarray, compact_ints, use_unsigned, low_memory, buffer_lines, memory_map, float_precision)\u001b[0m\n\u001b[1;32m    644\u001b[0m                     skip_blank_lines=skip_blank_lines)\n\u001b[1;32m    645\u001b[0m \u001b[0;34m\u001b[0m\u001b[0m\n\u001b[0;32m--> 646\u001b[0;31m         \u001b[0;32mreturn\u001b[0m \u001b[0m_read\u001b[0m\u001b[0;34m(\u001b[0m\u001b[0mfilepath_or_buffer\u001b[0m\u001b[0;34m,\u001b[0m \u001b[0mkwds\u001b[0m\u001b[0;34m)\u001b[0m\u001b[0;34m\u001b[0m\u001b[0m\n\u001b[0m\u001b[1;32m    647\u001b[0m \u001b[0;34m\u001b[0m\u001b[0m\n\u001b[1;32m    648\u001b[0m     \u001b[0mparser_f\u001b[0m\u001b[0;34m.\u001b[0m\u001b[0m__name__\u001b[0m \u001b[0;34m=\u001b[0m \u001b[0mname\u001b[0m\u001b[0;34m\u001b[0m\u001b[0m\n",
      "\u001b[0;32m/Users/Anthony/anaconda/lib/python3.6/site-packages/pandas/io/parsers.py\u001b[0m in \u001b[0;36m_read\u001b[0;34m(filepath_or_buffer, kwds)\u001b[0m\n\u001b[1;32m    387\u001b[0m \u001b[0;34m\u001b[0m\u001b[0m\n\u001b[1;32m    388\u001b[0m     \u001b[0;31m# Create the parser.\u001b[0m\u001b[0;34m\u001b[0m\u001b[0;34m\u001b[0m\u001b[0m\n\u001b[0;32m--> 389\u001b[0;31m     \u001b[0mparser\u001b[0m \u001b[0;34m=\u001b[0m \u001b[0mTextFileReader\u001b[0m\u001b[0;34m(\u001b[0m\u001b[0mfilepath_or_buffer\u001b[0m\u001b[0;34m,\u001b[0m \u001b[0;34m**\u001b[0m\u001b[0mkwds\u001b[0m\u001b[0;34m)\u001b[0m\u001b[0;34m\u001b[0m\u001b[0m\n\u001b[0m\u001b[1;32m    390\u001b[0m \u001b[0;34m\u001b[0m\u001b[0m\n\u001b[1;32m    391\u001b[0m     \u001b[0;32mif\u001b[0m \u001b[0;34m(\u001b[0m\u001b[0mnrows\u001b[0m \u001b[0;32mis\u001b[0m \u001b[0;32mnot\u001b[0m \u001b[0;32mNone\u001b[0m\u001b[0;34m)\u001b[0m \u001b[0;32mand\u001b[0m \u001b[0;34m(\u001b[0m\u001b[0mchunksize\u001b[0m \u001b[0;32mis\u001b[0m \u001b[0;32mnot\u001b[0m \u001b[0;32mNone\u001b[0m\u001b[0;34m)\u001b[0m\u001b[0;34m:\u001b[0m\u001b[0;34m\u001b[0m\u001b[0m\n",
      "\u001b[0;32m/Users/Anthony/anaconda/lib/python3.6/site-packages/pandas/io/parsers.py\u001b[0m in \u001b[0;36m__init__\u001b[0;34m(self, f, engine, **kwds)\u001b[0m\n\u001b[1;32m    728\u001b[0m             \u001b[0mself\u001b[0m\u001b[0;34m.\u001b[0m\u001b[0moptions\u001b[0m\u001b[0;34m[\u001b[0m\u001b[0;34m'has_index_names'\u001b[0m\u001b[0;34m]\u001b[0m \u001b[0;34m=\u001b[0m \u001b[0mkwds\u001b[0m\u001b[0;34m[\u001b[0m\u001b[0;34m'has_index_names'\u001b[0m\u001b[0;34m]\u001b[0m\u001b[0;34m\u001b[0m\u001b[0m\n\u001b[1;32m    729\u001b[0m \u001b[0;34m\u001b[0m\u001b[0m\n\u001b[0;32m--> 730\u001b[0;31m         \u001b[0mself\u001b[0m\u001b[0;34m.\u001b[0m\u001b[0m_make_engine\u001b[0m\u001b[0;34m(\u001b[0m\u001b[0mself\u001b[0m\u001b[0;34m.\u001b[0m\u001b[0mengine\u001b[0m\u001b[0;34m)\u001b[0m\u001b[0;34m\u001b[0m\u001b[0m\n\u001b[0m\u001b[1;32m    731\u001b[0m \u001b[0;34m\u001b[0m\u001b[0m\n\u001b[1;32m    732\u001b[0m     \u001b[0;32mdef\u001b[0m \u001b[0mclose\u001b[0m\u001b[0;34m(\u001b[0m\u001b[0mself\u001b[0m\u001b[0;34m)\u001b[0m\u001b[0;34m:\u001b[0m\u001b[0;34m\u001b[0m\u001b[0m\n",
      "\u001b[0;32m/Users/Anthony/anaconda/lib/python3.6/site-packages/pandas/io/parsers.py\u001b[0m in \u001b[0;36m_make_engine\u001b[0;34m(self, engine)\u001b[0m\n\u001b[1;32m    921\u001b[0m     \u001b[0;32mdef\u001b[0m \u001b[0m_make_engine\u001b[0m\u001b[0;34m(\u001b[0m\u001b[0mself\u001b[0m\u001b[0;34m,\u001b[0m \u001b[0mengine\u001b[0m\u001b[0;34m=\u001b[0m\u001b[0;34m'c'\u001b[0m\u001b[0;34m)\u001b[0m\u001b[0;34m:\u001b[0m\u001b[0;34m\u001b[0m\u001b[0m\n\u001b[1;32m    922\u001b[0m         \u001b[0;32mif\u001b[0m \u001b[0mengine\u001b[0m \u001b[0;34m==\u001b[0m \u001b[0;34m'c'\u001b[0m\u001b[0;34m:\u001b[0m\u001b[0;34m\u001b[0m\u001b[0m\n\u001b[0;32m--> 923\u001b[0;31m             \u001b[0mself\u001b[0m\u001b[0;34m.\u001b[0m\u001b[0m_engine\u001b[0m \u001b[0;34m=\u001b[0m \u001b[0mCParserWrapper\u001b[0m\u001b[0;34m(\u001b[0m\u001b[0mself\u001b[0m\u001b[0;34m.\u001b[0m\u001b[0mf\u001b[0m\u001b[0;34m,\u001b[0m \u001b[0;34m**\u001b[0m\u001b[0mself\u001b[0m\u001b[0;34m.\u001b[0m\u001b[0moptions\u001b[0m\u001b[0;34m)\u001b[0m\u001b[0;34m\u001b[0m\u001b[0m\n\u001b[0m\u001b[1;32m    924\u001b[0m         \u001b[0;32melse\u001b[0m\u001b[0;34m:\u001b[0m\u001b[0;34m\u001b[0m\u001b[0m\n\u001b[1;32m    925\u001b[0m             \u001b[0;32mif\u001b[0m \u001b[0mengine\u001b[0m \u001b[0;34m==\u001b[0m \u001b[0;34m'python'\u001b[0m\u001b[0;34m:\u001b[0m\u001b[0;34m\u001b[0m\u001b[0m\n",
      "\u001b[0;32m/Users/Anthony/anaconda/lib/python3.6/site-packages/pandas/io/parsers.py\u001b[0m in \u001b[0;36m__init__\u001b[0;34m(self, src, **kwds)\u001b[0m\n\u001b[1;32m   1388\u001b[0m         \u001b[0mkwds\u001b[0m\u001b[0;34m[\u001b[0m\u001b[0;34m'allow_leading_cols'\u001b[0m\u001b[0;34m]\u001b[0m \u001b[0;34m=\u001b[0m \u001b[0mself\u001b[0m\u001b[0;34m.\u001b[0m\u001b[0mindex_col\u001b[0m \u001b[0;32mis\u001b[0m \u001b[0;32mnot\u001b[0m \u001b[0;32mFalse\u001b[0m\u001b[0;34m\u001b[0m\u001b[0m\n\u001b[1;32m   1389\u001b[0m \u001b[0;34m\u001b[0m\u001b[0m\n\u001b[0;32m-> 1390\u001b[0;31m         \u001b[0mself\u001b[0m\u001b[0;34m.\u001b[0m\u001b[0m_reader\u001b[0m \u001b[0;34m=\u001b[0m \u001b[0m_parser\u001b[0m\u001b[0;34m.\u001b[0m\u001b[0mTextReader\u001b[0m\u001b[0;34m(\u001b[0m\u001b[0msrc\u001b[0m\u001b[0;34m,\u001b[0m \u001b[0;34m**\u001b[0m\u001b[0mkwds\u001b[0m\u001b[0;34m)\u001b[0m\u001b[0;34m\u001b[0m\u001b[0m\n\u001b[0m\u001b[1;32m   1391\u001b[0m \u001b[0;34m\u001b[0m\u001b[0m\n\u001b[1;32m   1392\u001b[0m         \u001b[0;31m# XXX\u001b[0m\u001b[0;34m\u001b[0m\u001b[0;34m\u001b[0m\u001b[0m\n",
      "\u001b[0;32mpandas/parser.pyx\u001b[0m in \u001b[0;36mpandas.parser.TextReader.__cinit__ (pandas/parser.c:4184)\u001b[0;34m()\u001b[0m\n",
      "\u001b[0;32mpandas/parser.pyx\u001b[0m in \u001b[0;36mpandas.parser.TextReader._setup_parser_source (pandas/parser.c:8449)\u001b[0;34m()\u001b[0m\n",
      "\u001b[0;31mFileNotFoundError\u001b[0m: File b'data/human_body_temperature.csv' does not exist"
     ]
    }
   ],
   "source": [
    "import pandas as pd\n",
    "import numpy as np\n",
    "import scipy as sp\n",
    "import scipy.stats as stats\n",
    "import matplotlib.mlab as mlab\n",
    "import matplotlib.pyplot as pyplot\n",
    "import math\n",
    "from ipywidgets import interact, interactive, fixed\n",
    "import ipywidgets as widgets\n",
    "\n",
    "np.random.seed(17)\n",
    "\n",
    "C1 = '#7fc97f'\n",
    "C2 = '#beaed4'\n",
    "C3 = '#fdc086'\n",
    "C4 = '#ffff99'\n",
    "C5 = '#386cb0'\n",
    "\n",
    "%matplotlib inline\n",
    "\n",
    "df = pd.read_csv('data/human_body_temperature.csv')\n",
    "df.head()"
   ]
  },
  {
   "cell_type": "markdown",
   "metadata": {},
   "source": [
    "## 1.) Is the distribution of body temperatures normal?\n",
    "\n",
    "With all temperatures combined the data seems to be distibuted normally. The female population has more outliers than the men, yet when they are plotted there is no apparent skewing in the data."
   ]
  },
  {
   "cell_type": "code",
   "execution_count": null,
   "metadata": {
    "collapsed": false
   },
   "outputs": [],
   "source": [
    "pyplot.figure()\n",
    "pyplot.boxplot([temp],1 ,'rs',0, labels=['All Data'])\n",
    "pyplot.xlabel('Temperature')\n",
    "pyplot.title('All Temperatures')\n",
    "\n",
    "pyplot.figure()\n",
    "pyplot.boxplot([male_temp,female_temp],1 ,'rs',0,labels=['Male','Female'])\n",
    "pyplot.xlabel('Temperature')\n",
    "pyplot.title('Male and Female Temperatures')\n",
    "None"
   ]
  },
  {
   "cell_type": "markdown",
   "metadata": {},
   "source": [
    "## 2.) Is the sample size large? Are the observations independent?"
   ]
  },
  {
   "cell_type": "markdown",
   "metadata": {},
   "source": [
    "The sample size (**130**) appears small for a traditional experiement, yet it meets the standards for CLT.\n",
    "\n",
    "The two genders were measured equally and most likely independent of each other, but there are other factors that would declare these observations dependent. A few things I would explore are:\n",
    "\n",
    "- Time of the year temperature was recorded\n",
    "- Temperature of the room for each group\n",
    "- Pregnancy, menstruation, medications, vitamins etc.\n",
    "\n",
    "These are only a few factors that could skew the data."
   ]
  },
  {
   "cell_type": "code",
   "execution_count": null,
   "metadata": {
    "collapsed": false
   },
   "outputs": [],
   "source": [
    "len(df)"
   ]
  },
  {
   "cell_type": "code",
   "execution_count": null,
   "metadata": {
    "collapsed": false
   },
   "outputs": [],
   "source": [
    "df.groupby('gender').count()"
   ]
  },
  {
   "cell_type": "markdown",
   "metadata": {},
   "source": [
    "## Exploring the data:"
   ]
  },
  {
   "cell_type": "code",
   "execution_count": null,
   "metadata": {
    "collapsed": false
   },
   "outputs": [],
   "source": [
    "normal=98.6\n",
    "pyplot.hlines(normal, -100, 100, linewidth=2, color=C1)\n",
    "\n",
    "df.groupby('gender').temperature.mean().plot(\n",
    "    kind='bar', ylim=[0, 120], yticks=(np.arange(0, 200, 10)), color=C5)\n",
    "\n",
    "pyplot.legend(['Normal Temperature 98.6'], bbox_to_anchor=(\n",
    "    1.02, 1), loc=2, borderaxespad=0)\n",
    "(df.groupby('gender').temperature.mean())\n",
    "\n",
    "pyplot.xticks(rotation='horizontal')\n",
    "pyplot.xlabel('mu 98.393846                               mu 98.104615')\n",
    "None"
   ]
  },
  {
   "cell_type": "code",
   "execution_count": null,
   "metadata": {
    "collapsed": false
   },
   "outputs": [],
   "source": [
    "male_df = df[df['gender'].str.contains('M')]\n",
    "female_df = df[df['gender'].str.contains('F')]\n",
    "\n",
    "temp = df.as_matrix(columns=['temperature'])\n",
    "hr = df.as_matrix(columns=['heart_rate'])\n",
    "\n",
    "male_temp = male_df.as_matrix(columns=['temperature'])\n",
    "male_hr = male_df.as_matrix(columns=['heart_rate'])\n",
    "\n",
    "female_temp = female_df.as_matrix(columns=['temperature'])\n",
    "female_hr = female_df.as_matrix(columns=['heart_rate'])\n",
    "\n",
    "mu_temp = np.mean(temp)\n",
    "sig_temp = np.std(temp)\n",
    "\n",
    "mu_hr = np.mean(hr)\n",
    "sig_hr = np.std(hr)\n",
    "\n",
    "mmu_temp = np.mean(male_temp)\n",
    "msig_temp = np.std(male_temp)\n",
    "\n",
    "mmu_hr = np.mean(male_hr)\n",
    "msig_hr = np.std(male_hr)\n",
    "\n",
    "fmu_temp = np.mean(female_temp)\n",
    "fsig_temp = msig_temp = np.std(female_temp)\n",
    "\n",
    "fmu_hr = np.mean(female_hr)\n",
    "fsig_hr = np.std(female_hr)"
   ]
  },
  {
   "cell_type": "code",
   "execution_count": null,
   "metadata": {
    "collapsed": false
   },
   "outputs": [],
   "source": [
    "def plot_stats_temp(mu, sig, gender):\n",
    "    x = np.linspace(mu - 3 * sig, mu + 3 * sig, 100)\n",
    "    pyplot.vlines(normal, 0, .6, linewidth=2, color=C1)\n",
    "    pyplot.vlines(mu, 0, .6, linewidth=2, color=C2)\n",
    "    pyplot.legend(['Normal Temperature 98.6', gender + ' mu Temperature ' + str(mu)], bbox_to_anchor=(\n",
    "        1.02, 1), loc=2, borderaxespad=0)\n",
    "    pyplot.plot(x, mlab.normpdf(x, mu, sig))\n",
    "    pyplot.xlabel(gender + ' Temperature')\n",
    "    pyplot.ylabel('PDF')\n",
    "    pyplot.show()\n",
    "    print('Difference between normal and ' + gender + ' temperature: ' +\n",
    "          \"{0:.3f}%\".format((((normal - mu) / mu) * 100)))\n",
    "    return\n",
    "\n",
    "\n",
    "def plot_stats_hr(mu, sig, gender):\n",
    "    x = np.linspace(mu - 3 * sig, mu + 3 * sig, 100)\n",
    "    pyplot.vlines(mu, 0, .06, linewidth=2, color=C2)\n",
    "    pyplot.legend([gender + ' mu Heart Rate ' + str(mu)], bbox_to_anchor=(\n",
    "        1.02, 1), loc=2, borderaxespad=0)\n",
    "    pyplot.plot(x, mlab.normpdf(x, mu, sig))\n",
    "    pyplot.xlabel(gender + ' Heart Rate')\n",
    "    pyplot.ylabel('PDF')\n",
    "    return pyplot.show()"
   ]
  },
  {
   "cell_type": "code",
   "execution_count": null,
   "metadata": {
    "collapsed": false
   },
   "outputs": [],
   "source": [
    "plot_stats_temp(mu_temp, sig_temp, 'M & F')\n",
    "plot_stats_temp(fmu_temp, fsig_temp, 'Female')\n",
    "plot_stats_temp(mmu_temp, msig_temp, 'Male')"
   ]
  },
  {
   "cell_type": "code",
   "execution_count": null,
   "metadata": {
    "collapsed": false
   },
   "outputs": [],
   "source": [
    "plot_stats_hr(mu_hr, sig_hr, 'M & F')\n",
    "plot_stats_hr(fmu_hr, fsig_hr, 'Female')\n",
    "plot_stats_hr(mmu_hr, msig_hr, 'Male')"
   ]
  },
  {
   "cell_type": "markdown",
   "metadata": {},
   "source": [
    "## Creates a random sample from the distributions:\n",
    "This allows us to plot a larger sample (**1000**) vs the 130 we were using earlier. "
   ]
  },
  {
   "cell_type": "code",
   "execution_count": null,
   "metadata": {
    "collapsed": false
   },
   "outputs": [],
   "source": [
    "temp_norm = stats.norm(mu_temp, sig_temp)\n",
    "hr_norm = stats.norm(mu_hr, sig_hr)\n",
    "\n",
    "male_temp_norm = stats.norm(mmu_temp, msig_temp)\n",
    "male_hr_norm = stats.norm(mmu_hr, msig_hr)\n",
    "\n",
    "female_temp_norm = stats.norm(fmu_temp, fsig_temp)\n",
    "female_hr_norm = stats.norm(fmu_hr, fsig_hr)\n",
    "\n",
    "temp_sample = temp_norm.rvs(1000)\n",
    "hr_sample = hr_norm.rvs(1000)\n",
    "\n",
    "mtemp_sample = male_temp_norm.rvs(1000)\n",
    "mhr_sample = male_hr_norm.rvs(1000)\n",
    "\n",
    "ftemp_sample = female_temp_norm.rvs(1000)\n",
    "fhr_sample = female_hr_norm.rvs(1000)\n",
    "\n",
    "sample_mu_temp = np.mean(temp_sample)\n",
    "sample_sig_temp = np.std(temp_sample)\n",
    "\n",
    "sample_mmu_temp = np.mean(mtemp_sample)\n",
    "sample_msig_temp = np.std(mtemp_sample)\n",
    "\n",
    "sample_fmu_temp = np.mean(ftemp_sample)\n",
    "sample_fsig_temp = np.std(ftemp_sample)\n",
    "\n",
    "sample_mu_hr = np.mean(hr_sample)\n",
    "sample_sig_hr = np.std(hr_sample)\n",
    "\n",
    "sample_mmu_hr = np.mean(mhr_sample)\n",
    "sample_msig_hr = np.std(mhr_sample)\n",
    "\n",
    "sample_fmu_hr = np.mean(fhr_sample)\n",
    "sample_fsig_hr = np.std(fhr_sample)"
   ]
  },
  {
   "cell_type": "code",
   "execution_count": null,
   "metadata": {
    "collapsed": false
   },
   "outputs": [],
   "source": [
    "plot_stats_temp(sample_mu_temp, sample_sig_temp, 'Sample M & F')\n",
    "plot_stats_temp(sample_fmu_temp, sample_fsig_temp, 'Sample Female')\n",
    "plot_stats_temp(sample_mmu_temp, sample_msig_temp, 'Sample Male')"
   ]
  },
  {
   "cell_type": "code",
   "execution_count": null,
   "metadata": {
    "collapsed": false
   },
   "outputs": [],
   "source": [
    "plot_stats_hr(sample_mu_hr, sample_sig_hr, 'Sample M & F')\n",
    "plot_stats_hr(sample_fmu_hr, sample_fsig_hr, 'Sample Female')\n",
    "plot_stats_hr(sample_mmu_hr, sample_msig_hr, 'Sample Male')"
   ]
  },
  {
   "cell_type": "code",
   "execution_count": null,
   "metadata": {
    "collapsed": true
   },
   "outputs": [],
   "source": [
    "sample_mu_temp = np.mean(temp_sample)\n",
    "sample_sig_temp = np.std(temp_sample)\n",
    "\n",
    "sample_mmu_temp = np.mean(mtemp_sample)\n",
    "sample_msig_temp = np.std(mtemp_sample)\n",
    "\n",
    "sample_fmu_temp = np.mean(ftemp_sample)\n",
    "sample_fsig_temp = np.std(ftemp_sample)"
   ]
  },
  {
   "cell_type": "code",
   "execution_count": null,
   "metadata": {
    "collapsed": false
   },
   "outputs": [],
   "source": [
    "def namestr(obj):\n",
    "    x = [name for name in globals() if globals()[name] is obj]\n",
    "    y = ''.join(x)\n",
    "    z = y.title()\n",
    "    return z\n",
    "\n",
    "def thresh_compare(x_sample, y_sample):\n",
    "    thresh = ((np.std(x_sample) * (np.mean(y_sample))) + (np.std(y_sample)\n",
    "                                                          * np.mean(x_sample))) / ((np.std(x_sample) + np.std(y_sample)))\n",
    "    x_below_thresh = (sum(x_sample < thresh))\n",
    "    y_above_thresh = (sum(y_sample > thresh))\n",
    "    overlap = (x_below_thresh / len(x_sample)) + (y_above_thresh / len(y_sample))\n",
    "    print('Thresh:', thresh)\n",
    "    print(namestr(x_sample), 'Below Thresh:',\n",
    "          x_below_thresh, '/', len(x_sample))\n",
    "    print(namestr(y_sample), 'Above Thresh:',\n",
    "          y_above_thresh, '/', len(y_sample))\n",
    "    missclassification_rate = overlap / 2\n",
    "    print('Overlap:', float(overlap))\n",
    "    print('Missclassification Rate:', \"{0:.2f}%\".format(\n",
    "        missclassification_rate * 100))\n",
    "    return"
   ]
  },
  {
   "cell_type": "code",
   "execution_count": null,
   "metadata": {
    "collapsed": false
   },
   "outputs": [],
   "source": [
    "thresh_compare(mtemp_sample, ftemp_sample)"
   ]
  },
  {
   "cell_type": "code",
   "execution_count": null,
   "metadata": {
    "collapsed": false
   },
   "outputs": [],
   "source": [
    "thresh_compare(mhr_sample, fhr_sample)"
   ]
  },
  {
   "cell_type": "code",
   "execution_count": null,
   "metadata": {
    "collapsed": false
   },
   "outputs": [],
   "source": [
    "thresh_compare(hr_sample, fhr_sample)"
   ]
  },
  {
   "cell_type": "code",
   "execution_count": null,
   "metadata": {
    "collapsed": false
   },
   "outputs": [],
   "source": [
    "thresh_compare(hr_sample, mhr_sample)"
   ]
  },
  {
   "cell_type": "code",
   "execution_count": null,
   "metadata": {
    "collapsed": false
   },
   "outputs": [],
   "source": [
    "thresh_compare(temp_sample, ftemp_sample)"
   ]
  },
  {
   "cell_type": "code",
   "execution_count": null,
   "metadata": {
    "collapsed": false
   },
   "outputs": [],
   "source": [
    "thresh_compare(temp_sample, mtemp_sample)"
   ]
  },
  {
   "cell_type": "markdown",
   "metadata": {},
   "source": [
    "## 3.) Is the true population mean really 98.6 degrees F?\n",
    "- Would you use a one-sample or two-sample test? Why?\n",
    "- In this situation, is it appropriate to use the  $t$  or  $z$  statistic?\n",
    "- Now try using the other test. How is the result be different? Why?"
   ]
  },
  {
   "cell_type": "code",
   "execution_count": null,
   "metadata": {
    "collapsed": false
   },
   "outputs": [],
   "source": [
    "def get_z(sample, x):\n",
    "    z = (x - np.mean(sample)) / np.std(sample)\n",
    "    return z\n",
    "\n",
    "\n",
    "def get_t(sample, null_hypo):\n",
    "    t = (np.mean(sample) - null_hypo) / (np.std(sample) / math.sqrt(len(sample)))\n",
    "    return t"
   ]
  },
  {
   "cell_type": "markdown",
   "metadata": {},
   "source": [
    "- After getting the mean of the data collected, the mean is closer to **98.2 degrees F rahter than 98.6 degrees F.** I created a random sample from the given distribution and got even closer to 98.20 degrees F to confirm this."
   ]
  },
  {
   "cell_type": "code",
   "execution_count": null,
   "metadata": {
    "collapsed": false
   },
   "outputs": [],
   "source": [
    "np.mean(temp), np.mean(temp_sample), normal"
   ]
  },
  {
   "cell_type": "markdown",
   "metadata": {},
   "source": [
    "- Since the sample size is above 30 it is appropriate to use the $z$ statistic, however there is an unknown standard deviation so we must use the **$t$ statistic.**\n",
    "\n",
    "- In this situation we would use a one sample test because we are testing our sample, which includes the men and women, against the \"normal\" body temperature, 98.6 degrees F. It will be a two tailed test since we are measuring to determine if the population temperature is above **or** below 98.6 degrees F."
   ]
  },
  {
   "cell_type": "code",
   "execution_count": null,
   "metadata": {
    "collapsed": false
   },
   "outputs": [],
   "source": [
    "t = get_t(temp, normal)\n",
    "print('T statastic:', t)"
   ]
  },
  {
   "cell_type": "code",
   "execution_count": null,
   "metadata": {
    "collapsed": false
   },
   "outputs": [],
   "source": [
    "z = get_z(temp_sample, normal)\n",
    "print('Z statastic:', z)"
   ]
  },
  {
   "cell_type": "markdown",
   "metadata": {},
   "source": [
    "## 4.) At what temperature should we consider someone's temperature to be \"abnormal\"?"
   ]
  },
  {
   "cell_type": "code",
   "execution_count": null,
   "metadata": {
    "collapsed": false
   },
   "outputs": [],
   "source": [
    "def ci(sample, interval):\n",
    "    confidence = interval * .01\n",
    "    n = len(sample)\n",
    "    mu = np.mean(sample)\n",
    "    se = stats.sem(sample)\n",
    "    h = se * stats.t._ppf((1 + confidence) / 2, n - 1)\n",
    "    print(namestr(sample), 'mu:', mu)\n",
    "    print(\"From this sample, we can be confident that {0:.0f}%\".format(\n",
    "        confidence * 100), 'of the values in', namestr(sample), 'are between:')\n",
    "    print(float(mu - h), 'and', float(mu + h))\n",
    "    return"
   ]
  },
  {
   "cell_type": "markdown",
   "metadata": {},
   "source": [
    "If someone had a temperature **less than 98.12 dgerees F** or **greater than 98.37 degrees F** we would consider their temperature abnormal. Therefore, the \"normal\" temperature of 98.6 degrees F is an abnormal temperature."
   ]
  },
  {
   "cell_type": "code",
   "execution_count": null,
   "metadata": {
    "collapsed": false
   },
   "outputs": [],
   "source": [
    "ci(temp,95)"
   ]
  },
  {
   "cell_type": "markdown",
   "metadata": {},
   "source": [
    "## 5.) Is there a significant difference between males and females in normal temperature?\n",
    "- What test did you use and why?\n",
    "- Write a story with your conclusion in the context of the original problem."
   ]
  },
  {
   "cell_type": "code",
   "execution_count": null,
   "metadata": {
    "collapsed": false
   },
   "outputs": [],
   "source": [
    "diff_mu = abs (mmu_temp - fmu_temp)\n",
    "\"{0:.5f}%\".format((diff_mu / mmu_temp)*100)"
   ]
  },
  {
   "cell_type": "code",
   "execution_count": null,
   "metadata": {
    "collapsed": false
   },
   "outputs": [],
   "source": [
    "\"{0:.5f}%\".format((diff_mu / fmu_temp)*100)"
   ]
  },
  {
   "cell_type": "markdown",
   "metadata": {},
   "source": [
    "The difference in means is less than .5%. "
   ]
  },
  {
   "cell_type": "code",
   "execution_count": null,
   "metadata": {
    "collapsed": true
   },
   "outputs": [],
   "source": []
  }
 ],
 "metadata": {
  "kernelspec": {
   "display_name": "Python 3",
   "language": "python",
   "name": "python3"
  }
 },
 "nbformat": 4,
 "nbformat_minor": 0
}
